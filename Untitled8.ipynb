{
  "nbformat": 4,
  "nbformat_minor": 0,
  "metadata": {
    "colab": {
      "provenance": [],
      "authorship_tag": "ABX9TyOPHjR+AuD1+05b7sgTrQQl",
      "include_colab_link": true
    },
    "kernelspec": {
      "name": "python3",
      "display_name": "Python 3"
    },
    "language_info": {
      "name": "python"
    }
  },
  "cells": [
    {
      "cell_type": "markdown",
      "metadata": {
        "id": "view-in-github",
        "colab_type": "text"
      },
      "source": [
        "<a href=\"https://colab.research.google.com/github/Shrinandmat/Machine-Learning/blob/main/Untitled8.ipynb\" target=\"_parent\"><img src=\"https://colab.research.google.com/assets/colab-badge.svg\" alt=\"Open In Colab\"/></a>"
      ]
    },
    {
      "cell_type": "code",
      "execution_count": null,
      "metadata": {
        "id": "pGJNoiqGG2jb"
      },
      "outputs": [],
      "source": [
        "\n",
        "import pandas as pd\n",
        "import math\n",
        "import numpy as np\n"
      ]
    },
    {
      "cell_type": "code",
      "source": [
        "data = pd.read_csv(\"dataset.csv\")\n",
        "features = [feat for feat in data]\n",
        "features.remove(\"answer\")"
      ],
      "metadata": {
        "id": "KJ3Z5ofGHezJ"
      },
      "execution_count": null,
      "outputs": []
    },
    {
      "cell_type": "code",
      "source": [
        "data.describe"
      ],
      "metadata": {
        "colab": {
          "base_uri": "https://localhost:8080/"
        },
        "id": "Bw8IfidQHjYL",
        "outputId": "78249ee5-7ea1-4ccf-d1ac-c45d0a5ce28d"
      },
      "execution_count": null,
      "outputs": [
        {
          "output_type": "execute_result",
          "data": {
            "text/plain": [
              "<bound method NDFrame.describe of      outlook temperature humidity    wind answer\n",
              "0      sunny         hot     high    weak     no\n",
              "1      sunny         hot     high  strong     no\n",
              "2   overcast         hot     high    weak    yes\n",
              "3       rain        mild     high    weak    yes\n",
              "4       rain        cool   normal    weak    yes\n",
              "5       rain        cool   normal  strong     no\n",
              "6   overcast        cool   normal  strong    yes\n",
              "7      sunny        mild     high    weak     no\n",
              "8      sunny        cool   normal    weak    yes\n",
              "9       rain        mild   normal    weak    yes\n",
              "10     sunny        mild   normal  strong    yes\n",
              "11  overcast        mild     high  strong    yes\n",
              "12  overcast         hot   normal    weak    yes\n",
              "13      rain        mild     high  strong     no>"
            ]
          },
          "metadata": {},
          "execution_count": 4
        }
      ]
    },
    {
      "cell_type": "code",
      "source": [
        "class Node:\n",
        "    def __init__(self):\n",
        "        self.children = []\n",
        "        self.value = \"\"\n",
        "        self.isLeaf = False\n",
        "        self.pred = \"\"\n"
      ],
      "metadata": {
        "id": "XXu4wihAH5dq"
      },
      "execution_count": null,
      "outputs": []
    },
    {
      "cell_type": "code",
      "source": [
        "\n",
        "def entropy(examples):\n",
        "    pos = 0.0\n",
        "    neg = 0.0\n",
        "    for _, row in examples.iterrows():\n",
        "        if row[\"answer\"] == \"yes\":\n",
        "            pos += 1\n",
        "        else:\n",
        "            neg += 1\n",
        "    if pos == 0.0 or neg == 0.0:\n",
        "        return 0.0\n",
        "    else:\n",
        "        p = pos / (pos + neg)\n",
        "        n = neg / (pos + neg)\n",
        "        return -(p * math.log(p, 2) + n * math.log(n, 2))\n"
      ],
      "metadata": {
        "id": "UBF2Ej_wIA0O"
      },
      "execution_count": null,
      "outputs": []
    },
    {
      "cell_type": "code",
      "source": [
        "def info_gain(examples, attr):\n",
        "    uniq = np.unique(examples[attr])\n",
        "    #print (\"\\n\",uniq)\n",
        "    gain = entropy(examples)\n",
        "    #print (\"\\n\",gain)\n",
        "    for u in uniq:\n",
        "        subdata = examples[examples[attr] == u]\n",
        "        #print (\"\\n\",subdata)\n",
        "        sub_e = entropy(subdata)\n",
        "        gain -= (float(len(subdata)) / float(len(examples))) * sub_e\n",
        "        #print (\"\\n\",gain)\n",
        "    return gain"
      ],
      "metadata": {
        "id": "tOhstXbBIE50"
      },
      "execution_count": null,
      "outputs": []
    },
    {
      "cell_type": "code",
      "source": [
        "def ID3(examples, attrs):\n",
        "    root = Node()\n",
        "\n",
        "    max_gain = 0\n",
        "    max_feat = \"\"\n",
        "    for feature in attrs:\n",
        "        #print (\"\\n\",examples)\n",
        "        gain = info_gain(examples, feature)\n",
        "        if gain > max_gain:\n",
        "            max_gain = gain\n",
        "            max_feat = feature\n",
        "    root.value = max_feat\n",
        "    #print (\"\\nMax feature attr\",max_feat)\n",
        "    uniq = np.unique(examples[max_feat])\n",
        "    #print (\"\\n\",uniq)\n",
        "    for u in uniq:\n",
        "        #print (\"\\n\",u)\n",
        "        subdata = examples[examples[max_feat] == u]\n",
        "        #print (\"\\n\",subdata)\n",
        "        if entropy(subdata) == 0.0:\n",
        "            newNode = Node()\n",
        "            newNode.isLeaf = True\n",
        "            newNode.value = u\n",
        "            newNode.pred = np.unique(subdata[\"answer\"])\n",
        "            root.children.append(newNode)\n",
        "        else:\n",
        "            dummyNode = Node()\n",
        "            dummyNode.value = u\n",
        "            new_attrs = attrs.copy()\n",
        "            new_attrs.remove(max_feat)\n",
        "            child = ID3(subdata, new_attrs)\n",
        "            dummyNode.children.append(child)\n",
        "            root.children.append(dummyNode)\n",
        "\n",
        "    return root\n"
      ],
      "metadata": {
        "id": "J0zy17U_IKFr"
      },
      "execution_count": null,
      "outputs": []
    },
    {
      "cell_type": "code",
      "source": [
        "\n",
        "\n",
        "def printTree(root: Node, depth=0):\n",
        "    for i in range(depth):\n",
        "        print(\"\\t\", end=\"\")\n",
        "    print(root.value, end=\"\")\n",
        "    if root.isLeaf:\n",
        "        print(\" -> \", root.pred)\n",
        "    print()\n",
        "    for child in root.children:\n",
        "        printTree(child, depth + 1)"
      ],
      "metadata": {
        "id": "EDG8DJ7uIMEn"
      },
      "execution_count": null,
      "outputs": []
    },
    {
      "cell_type": "code",
      "source": [
        "\n",
        "def classify(root: Node, new):\n",
        "    for child in root.children:\n",
        "        if child.value == new[root.value]:\n",
        "            if child.isLeaf:\n",
        "                print (\"Predicted Label for new example\", new,\" is:\", child.pred)\n",
        "                exit\n",
        "            else:\n",
        "                classify (child.children[0], new)"
      ],
      "metadata": {
        "id": "VS2Xmo8NIQrv"
      },
      "execution_count": null,
      "outputs": []
    },
    {
      "cell_type": "code",
      "source": [
        "\n",
        "root = ID3(data, features)\n",
        "print(\"Decision Tree is:\")\n",
        "printTree(root)\n",
        "print (\"------------------\")\n",
        "\n",
        "new = {\"outlook\":\"sunny\", \"temperature\":\"hot\", \"humidity\":\"normal\", \"wind\":\"strong\"}\n",
        "classify (root, new)"
      ],
      "metadata": {
        "id": "pTYkr4L2Ic1O",
        "outputId": "3d0fe3ae-54e0-4081-b9d5-adcade6a4e84",
        "colab": {
          "base_uri": "https://localhost:8080/"
        }
      },
      "execution_count": null,
      "outputs": [
        {
          "output_type": "stream",
          "name": "stdout",
          "text": [
            "Decision Tree is:\n",
            "outlook\n",
            "\tovercast ->  ['yes']\n",
            "\n",
            "\train\n",
            "\t\twind\n",
            "\t\t\tstrong ->  ['no']\n",
            "\n",
            "\t\t\tweak ->  ['yes']\n",
            "\n",
            "\tsunny\n",
            "\t\thumidity\n",
            "\t\t\thigh ->  ['no']\n",
            "\n",
            "\t\t\tnormal ->  ['yes']\n",
            "\n",
            "------------------\n",
            "Predicted Label for new example {'outlook': 'sunny', 'temperature': 'hot', 'humidity': 'normal', 'wind': 'strong'}  is: ['yes']\n"
          ]
        }
      ]
    },
    {
      "cell_type": "markdown",
      "source": [
        "# New section"
      ],
      "metadata": {
        "id": "6HQ2Uxv2G6LP"
      }
    }
  ]
}